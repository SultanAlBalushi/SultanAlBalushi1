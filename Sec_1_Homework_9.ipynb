{
  "cells": [
    {
      "cell_type": "markdown",
      "metadata": {
        "id": "7ywSRtNI4s5h"
      },
      "source": [
        "# 0.) Import and Clean data"
      ]
    },
    {
      "cell_type": "code",
      "execution_count": 3,
      "metadata": {
        "id": "nsG1QV154GYZ"
      },
      "outputs": [],
      "source": [
        "import pandas as pd\n",
        "import matplotlib.pyplot as plt\n",
        "import numpy as np\n",
        "from sklearn.preprocessing import StandardScaler\n",
        "from sklearn.cluster import KMeans"
      ]
    },
    {
      "cell_type": "code",
      "execution_count": null,
      "metadata": {
        "id": "lFEZb7-YfvAj"
      },
      "outputs": [],
      "source": []
    },
    {
      "cell_type": "code",
      "execution_count": 5,
      "metadata": {
        "id": "Iku0T8Ou4Lcu"
      },
      "outputs": [
        {
          "data": {
            "text/html": [
              "<div>\n",
              "<style scoped>\n",
              "    .dataframe tbody tr th:only-of-type {\n",
              "        vertical-align: middle;\n",
              "    }\n",
              "\n",
              "    .dataframe tbody tr th {\n",
              "        vertical-align: top;\n",
              "    }\n",
              "\n",
              "    .dataframe thead th {\n",
              "        text-align: right;\n",
              "    }\n",
              "</style>\n",
              "<table border=\"1\" class=\"dataframe\">\n",
              "  <thead>\n",
              "    <tr style=\"text-align: right;\">\n",
              "      <th></th>\n",
              "      <th>country</th>\n",
              "      <th>child_mort</th>\n",
              "      <th>exports</th>\n",
              "      <th>health</th>\n",
              "      <th>imports</th>\n",
              "      <th>income</th>\n",
              "      <th>inflation</th>\n",
              "      <th>life_expec</th>\n",
              "      <th>total_fer</th>\n",
              "      <th>gdpp</th>\n",
              "    </tr>\n",
              "  </thead>\n",
              "  <tbody>\n",
              "    <tr>\n",
              "      <th>0</th>\n",
              "      <td>Afghanistan</td>\n",
              "      <td>90.2</td>\n",
              "      <td>10.0</td>\n",
              "      <td>7.58</td>\n",
              "      <td>44.9</td>\n",
              "      <td>1610</td>\n",
              "      <td>9.44</td>\n",
              "      <td>56.2</td>\n",
              "      <td>5.82</td>\n",
              "      <td>553</td>\n",
              "    </tr>\n",
              "    <tr>\n",
              "      <th>1</th>\n",
              "      <td>Albania</td>\n",
              "      <td>16.6</td>\n",
              "      <td>28.0</td>\n",
              "      <td>6.55</td>\n",
              "      <td>48.6</td>\n",
              "      <td>9930</td>\n",
              "      <td>4.49</td>\n",
              "      <td>76.3</td>\n",
              "      <td>1.65</td>\n",
              "      <td>4090</td>\n",
              "    </tr>\n",
              "    <tr>\n",
              "      <th>2</th>\n",
              "      <td>Algeria</td>\n",
              "      <td>27.3</td>\n",
              "      <td>38.4</td>\n",
              "      <td>4.17</td>\n",
              "      <td>31.4</td>\n",
              "      <td>12900</td>\n",
              "      <td>16.10</td>\n",
              "      <td>76.5</td>\n",
              "      <td>2.89</td>\n",
              "      <td>4460</td>\n",
              "    </tr>\n",
              "    <tr>\n",
              "      <th>3</th>\n",
              "      <td>Angola</td>\n",
              "      <td>119.0</td>\n",
              "      <td>62.3</td>\n",
              "      <td>2.85</td>\n",
              "      <td>42.9</td>\n",
              "      <td>5900</td>\n",
              "      <td>22.40</td>\n",
              "      <td>60.1</td>\n",
              "      <td>6.16</td>\n",
              "      <td>3530</td>\n",
              "    </tr>\n",
              "    <tr>\n",
              "      <th>4</th>\n",
              "      <td>Antigua and Barbuda</td>\n",
              "      <td>10.3</td>\n",
              "      <td>45.5</td>\n",
              "      <td>6.03</td>\n",
              "      <td>58.9</td>\n",
              "      <td>19100</td>\n",
              "      <td>1.44</td>\n",
              "      <td>76.8</td>\n",
              "      <td>2.13</td>\n",
              "      <td>12200</td>\n",
              "    </tr>\n",
              "    <tr>\n",
              "      <th>...</th>\n",
              "      <td>...</td>\n",
              "      <td>...</td>\n",
              "      <td>...</td>\n",
              "      <td>...</td>\n",
              "      <td>...</td>\n",
              "      <td>...</td>\n",
              "      <td>...</td>\n",
              "      <td>...</td>\n",
              "      <td>...</td>\n",
              "      <td>...</td>\n",
              "    </tr>\n",
              "    <tr>\n",
              "      <th>162</th>\n",
              "      <td>Vanuatu</td>\n",
              "      <td>29.2</td>\n",
              "      <td>46.6</td>\n",
              "      <td>5.25</td>\n",
              "      <td>52.7</td>\n",
              "      <td>2950</td>\n",
              "      <td>2.62</td>\n",
              "      <td>63.0</td>\n",
              "      <td>3.50</td>\n",
              "      <td>2970</td>\n",
              "    </tr>\n",
              "    <tr>\n",
              "      <th>163</th>\n",
              "      <td>Venezuela</td>\n",
              "      <td>17.1</td>\n",
              "      <td>28.5</td>\n",
              "      <td>4.91</td>\n",
              "      <td>17.6</td>\n",
              "      <td>16500</td>\n",
              "      <td>45.90</td>\n",
              "      <td>75.4</td>\n",
              "      <td>2.47</td>\n",
              "      <td>13500</td>\n",
              "    </tr>\n",
              "    <tr>\n",
              "      <th>164</th>\n",
              "      <td>Vietnam</td>\n",
              "      <td>23.3</td>\n",
              "      <td>72.0</td>\n",
              "      <td>6.84</td>\n",
              "      <td>80.2</td>\n",
              "      <td>4490</td>\n",
              "      <td>12.10</td>\n",
              "      <td>73.1</td>\n",
              "      <td>1.95</td>\n",
              "      <td>1310</td>\n",
              "    </tr>\n",
              "    <tr>\n",
              "      <th>165</th>\n",
              "      <td>Yemen</td>\n",
              "      <td>56.3</td>\n",
              "      <td>30.0</td>\n",
              "      <td>5.18</td>\n",
              "      <td>34.4</td>\n",
              "      <td>4480</td>\n",
              "      <td>23.60</td>\n",
              "      <td>67.5</td>\n",
              "      <td>4.67</td>\n",
              "      <td>1310</td>\n",
              "    </tr>\n",
              "    <tr>\n",
              "      <th>166</th>\n",
              "      <td>Zambia</td>\n",
              "      <td>83.1</td>\n",
              "      <td>37.0</td>\n",
              "      <td>5.89</td>\n",
              "      <td>30.9</td>\n",
              "      <td>3280</td>\n",
              "      <td>14.00</td>\n",
              "      <td>52.0</td>\n",
              "      <td>5.40</td>\n",
              "      <td>1460</td>\n",
              "    </tr>\n",
              "  </tbody>\n",
              "</table>\n",
              "<p>167 rows × 10 columns</p>\n",
              "</div>"
            ],
            "text/plain": [
              "                 country  child_mort  exports  health  imports  income  \\\n",
              "0            Afghanistan        90.2     10.0    7.58     44.9    1610   \n",
              "1                Albania        16.6     28.0    6.55     48.6    9930   \n",
              "2                Algeria        27.3     38.4    4.17     31.4   12900   \n",
              "3                 Angola       119.0     62.3    2.85     42.9    5900   \n",
              "4    Antigua and Barbuda        10.3     45.5    6.03     58.9   19100   \n",
              "..                   ...         ...      ...     ...      ...     ...   \n",
              "162              Vanuatu        29.2     46.6    5.25     52.7    2950   \n",
              "163            Venezuela        17.1     28.5    4.91     17.6   16500   \n",
              "164              Vietnam        23.3     72.0    6.84     80.2    4490   \n",
              "165                Yemen        56.3     30.0    5.18     34.4    4480   \n",
              "166               Zambia        83.1     37.0    5.89     30.9    3280   \n",
              "\n",
              "     inflation  life_expec  total_fer   gdpp  \n",
              "0         9.44        56.2       5.82    553  \n",
              "1         4.49        76.3       1.65   4090  \n",
              "2        16.10        76.5       2.89   4460  \n",
              "3        22.40        60.1       6.16   3530  \n",
              "4         1.44        76.8       2.13  12200  \n",
              "..         ...         ...        ...    ...  \n",
              "162       2.62        63.0       3.50   2970  \n",
              "163      45.90        75.4       2.47  13500  \n",
              "164      12.10        73.1       1.95   1310  \n",
              "165      23.60        67.5       4.67   1310  \n",
              "166      14.00        52.0       5.40   1460  \n",
              "\n",
              "[167 rows x 10 columns]"
            ]
          },
          "execution_count": 5,
          "metadata": {},
          "output_type": "execute_result"
        }
      ],
      "source": [
        "#drive.mount('/content/gdrive/', force_remount = True)\n",
        "df = pd.read_csv(\"Country-data.csv\", sep = \",\")\n",
        "df"
      ]
    },
    {
      "cell_type": "markdown",
      "metadata": {
        "id": "YLn6XlFqMaCY"
      },
      "source": [
        "# 1.) Fit a kmeans Model with any Number of Clusters"
      ]
    },
    {
      "cell_type": "code",
      "execution_count": 7,
      "metadata": {
        "id": "ntDMWRN-8yAi"
      },
      "outputs": [
        {
          "name": "stderr",
          "output_type": "stream",
          "text": [
            "c:\\Users\\sulta\\anaconda3\\Lib\\site-packages\\sklearn\\cluster\\_kmeans.py:1446: UserWarning: KMeans is known to have a memory leak on Windows with MKL, when there are less chunks than available threads. You can avoid it by setting the environment variable OMP_NUM_THREADS=1.\n",
            "  warnings.warn(\n"
          ]
        },
        {
          "data": {
            "text/html": [
              "<div>\n",
              "<style scoped>\n",
              "    .dataframe tbody tr th:only-of-type {\n",
              "        vertical-align: middle;\n",
              "    }\n",
              "\n",
              "    .dataframe tbody tr th {\n",
              "        vertical-align: top;\n",
              "    }\n",
              "\n",
              "    .dataframe thead th {\n",
              "        text-align: right;\n",
              "    }\n",
              "</style>\n",
              "<table border=\"1\" class=\"dataframe\">\n",
              "  <thead>\n",
              "    <tr style=\"text-align: right;\">\n",
              "      <th></th>\n",
              "      <th>country</th>\n",
              "      <th>child_mort</th>\n",
              "      <th>exports</th>\n",
              "      <th>health</th>\n",
              "      <th>imports</th>\n",
              "      <th>income</th>\n",
              "      <th>inflation</th>\n",
              "      <th>life_expec</th>\n",
              "      <th>total_fer</th>\n",
              "      <th>gdpp</th>\n",
              "      <th>Cluster</th>\n",
              "    </tr>\n",
              "  </thead>\n",
              "  <tbody>\n",
              "    <tr>\n",
              "      <th>0</th>\n",
              "      <td>Afghanistan</td>\n",
              "      <td>90.2</td>\n",
              "      <td>10.0</td>\n",
              "      <td>7.58</td>\n",
              "      <td>44.9</td>\n",
              "      <td>1610</td>\n",
              "      <td>9.44</td>\n",
              "      <td>56.2</td>\n",
              "      <td>5.82</td>\n",
              "      <td>553</td>\n",
              "      <td>2</td>\n",
              "    </tr>\n",
              "    <tr>\n",
              "      <th>1</th>\n",
              "      <td>Albania</td>\n",
              "      <td>16.6</td>\n",
              "      <td>28.0</td>\n",
              "      <td>6.55</td>\n",
              "      <td>48.6</td>\n",
              "      <td>9930</td>\n",
              "      <td>4.49</td>\n",
              "      <td>76.3</td>\n",
              "      <td>1.65</td>\n",
              "      <td>4090</td>\n",
              "      <td>0</td>\n",
              "    </tr>\n",
              "    <tr>\n",
              "      <th>2</th>\n",
              "      <td>Algeria</td>\n",
              "      <td>27.3</td>\n",
              "      <td>38.4</td>\n",
              "      <td>4.17</td>\n",
              "      <td>31.4</td>\n",
              "      <td>12900</td>\n",
              "      <td>16.10</td>\n",
              "      <td>76.5</td>\n",
              "      <td>2.89</td>\n",
              "      <td>4460</td>\n",
              "      <td>0</td>\n",
              "    </tr>\n",
              "    <tr>\n",
              "      <th>3</th>\n",
              "      <td>Angola</td>\n",
              "      <td>119.0</td>\n",
              "      <td>62.3</td>\n",
              "      <td>2.85</td>\n",
              "      <td>42.9</td>\n",
              "      <td>5900</td>\n",
              "      <td>22.40</td>\n",
              "      <td>60.1</td>\n",
              "      <td>6.16</td>\n",
              "      <td>3530</td>\n",
              "      <td>2</td>\n",
              "    </tr>\n",
              "    <tr>\n",
              "      <th>4</th>\n",
              "      <td>Antigua and Barbuda</td>\n",
              "      <td>10.3</td>\n",
              "      <td>45.5</td>\n",
              "      <td>6.03</td>\n",
              "      <td>58.9</td>\n",
              "      <td>19100</td>\n",
              "      <td>1.44</td>\n",
              "      <td>76.8</td>\n",
              "      <td>2.13</td>\n",
              "      <td>12200</td>\n",
              "      <td>0</td>\n",
              "    </tr>\n",
              "  </tbody>\n",
              "</table>\n",
              "</div>"
            ],
            "text/plain": [
              "               country  child_mort  exports  health  imports  income  \\\n",
              "0          Afghanistan        90.2     10.0    7.58     44.9    1610   \n",
              "1              Albania        16.6     28.0    6.55     48.6    9930   \n",
              "2              Algeria        27.3     38.4    4.17     31.4   12900   \n",
              "3               Angola       119.0     62.3    2.85     42.9    5900   \n",
              "4  Antigua and Barbuda        10.3     45.5    6.03     58.9   19100   \n",
              "\n",
              "   inflation  life_expec  total_fer   gdpp  Cluster  \n",
              "0       9.44        56.2       5.82    553        2  \n",
              "1       4.49        76.3       1.65   4090        0  \n",
              "2      16.10        76.5       2.89   4460        0  \n",
              "3      22.40        60.1       6.16   3530        2  \n",
              "4       1.44        76.8       2.13  12200        0  "
            ]
          },
          "execution_count": 7,
          "metadata": {},
          "output_type": "execute_result"
        }
      ],
      "source": [
        "import pandas as pd\n",
        "from sklearn.cluster import KMeans\n",
        "from sklearn.preprocessing import StandardScaler\n",
        "\n",
        "n_clusters = 3\n",
        "\n",
        "# Preprocess the data: Standardize features by removing the mean and scaling to unit variance\n",
        "scaler = StandardScaler()\n",
        "scaled_features = scaler.fit_transform(df.select_dtypes(include=['float64', 'int64']))\n",
        "\n",
        "# Fit the KMeans model\n",
        "kmeans = KMeans(n_clusters=n_clusters, random_state=42)\n",
        "kmeans.fit(scaled_features)\n",
        "\n",
        "# Add the cluster labels to the dataframe\n",
        "df['Cluster'] = kmeans.labels_\n",
        "\n",
        "df.head()\n"
      ]
    },
    {
      "cell_type": "markdown",
      "metadata": {
        "id": "LkpVmNYRMtyq"
      },
      "source": [
        "# 2.) Pick two features to visualize across"
      ]
    },
    {
      "cell_type": "code",
      "execution_count": null,
      "metadata": {
        "colab": {
          "base_uri": "https://localhost:8080/"
        },
        "id": "oTmfYVYrN53a",
        "outputId": "a5a09b29-e94a-4ea6-a0df-c7873220ab90"
      },
      "outputs": [
        {
          "data": {
            "text/plain": [
              "Index(['child_mort', 'exports', 'health', 'imports', 'income', 'inflation',\n",
              "       'life_expec', 'total_fer', 'gdpp'],\n",
              "      dtype='object')"
            ]
          },
          "execution_count": 41,
          "metadata": {},
          "output_type": "execute_result"
        }
      ],
      "source": [
        "X.columns"
      ]
    },
    {
      "cell_type": "code",
      "execution_count": 11,
      "metadata": {},
      "outputs": [
        {
          "data": {
            "text/plain": [
              "array([[-8.08245403e-01,  1.29153238e+00],\n",
              "       [-3.75368896e-01, -5.38948897e-01],\n",
              "       [-2.20844469e-01, -2.72832734e-01],\n",
              "       [-5.85043454e-01,  2.00780766e+00],\n",
              "       [ 1.01731774e-01, -6.95634115e-01],\n",
              "       [ 8.09204035e-02, -5.91177303e-01],\n",
              "       [-5.43420713e-01, -5.01642893e-01],\n",
              "       [ 1.26196568e+00, -8.32422797e-01],\n",
              "       [ 1.35561685e+00, -8.44858132e-01],\n",
              "       [-5.95563477e-02,  2.31282334e-02],\n",
              "       [ 2.99439794e-01, -6.08586772e-01],\n",
              "       [ 1.24635715e+00, -7.37914253e-01],\n",
              "       [-7.65061809e-01,  2.76809062e-01],\n",
              "       [-9.59762462e-02, -5.98638504e-01],\n",
              "       [-4.91506624e-02, -8.15013329e-01],\n",
              "       [ 1.24635715e+00, -8.39883998e-01],\n",
              "       [-4.82027170e-01, -4.84233424e-01],\n",
              "       [-7.97319434e-01,  1.80884230e+00],\n",
              "       [-5.57988672e-01,  1.10175577e-01],\n",
              "       [-6.10537383e-01,  2.07171188e-01],\n",
              "       [-3.86294865e-01, -7.80194391e-01],\n",
              "       [-2.00033099e-01,  3.53908138e-01],\n",
              "       [-1.37598987e-01, -4.59362755e-01],\n",
              "       [ 3.30148000e+00, -6.90659981e-01],\n",
              "       [-9.59762462e-02, -6.83198780e-01],\n",
              "       [-8.17610520e-01,  1.93319565e+00],\n",
              "       [-8.52261452e-01,  1.37609265e+00],\n",
              "       [-7.60899535e-01,  1.52455715e-01],\n",
              "       [-7.53615555e-01,  1.73423029e+00],\n",
              "       [ 1.22554578e+00, -8.12526262e-01],\n",
              "       [-5.88685444e-01, -2.92729269e-01],\n",
              "       [-8.45809927e-01,  2.75392774e+00],\n",
              "       [-7.91596307e-01,  2.77879841e+00],\n",
              "       [ 1.17340302e-01, -7.35427186e-01],\n",
              "       [-3.96180266e-01, -5.61332500e-01],\n",
              "       [-3.24901322e-01, -4.89207558e-01],\n",
              "       [-8.18651088e-01,  1.24179104e+00],\n",
              "       [-8.60325858e-01,  1.93319565e+00],\n",
              "       [-6.21983637e-01,  6.37433770e-01],\n",
              "       [-2.15641627e-01, -6.98121182e-01],\n",
              "       [-7.52054703e-01,  1.80884230e+00],\n",
              "       [ 1.53760200e-01, -8.15013329e-01],\n",
              "       [ 8.71752484e-01, -8.62267601e-01],\n",
              "       [ 5.80393297e-01, -8.67241735e-01],\n",
              "       [ 1.39723959e+00, -8.49832266e-01],\n",
              "       [-3.14495637e-01, -9.62509802e-02],\n",
              "       [-4.05545383e-01, -3.27548207e-01],\n",
              "       [-3.79010886e-01, -2.28065529e-01],\n",
              "       [-5.12203657e-01, -4.74285157e-01],\n",
              "       [ 8.61346799e-01,  1.80884230e+00],\n",
              "       [-8.18130804e-01,  4.21058945e-01],\n",
              "       [ 2.89034109e-01, -8.39883998e-01],\n",
              "       [-5.09602236e-01, -3.52418876e-01],\n",
              "       [ 1.17872020e+00, -8.77190003e-01],\n",
              "       [ 1.02783776e+00, -8.47345199e-01],\n",
              "       [-9.07734035e-02,  6.32459636e-01],\n",
              "       [-8.05643982e-01,  1.04531275e+00],\n",
              "       [-5.41859860e-01, -5.41435964e-01],\n",
              "       [ 1.20993726e+00, -8.47345199e-01],\n",
              "       [-7.32804185e-01,  9.06037001e-01],\n",
              "       [ 6.01204667e-01, -8.54806400e-01],\n",
              "       [-3.09292794e-01, -5.88690236e-01],\n",
              "       [-5.42900429e-01, -7.13803107e-02],\n",
              "       [-8.30097342e-01,  1.75910096e+00],\n",
              "       [-8.19691657e-01,  1.88345431e+00],\n",
              "       [-5.88165160e-01, -1.66648378e-02],\n",
              "       [-8.13968530e-01,  4.22129724e+00],\n",
              "       [ 2.68222738e-01, -8.02577994e-01],\n",
              "       [ 1.12669177e+00, -8.87138270e-01],\n",
              "       [-6.62565809e-01,  5.10593356e-01],\n",
              "       [-4.53411535e-01, -1.23608717e-01],\n",
              "       [ 1.32834492e-02, -4.71798090e-01],\n",
              "       [-2.31250155e-01, -3.40743065e-02],\n",
              "       [ 1.48568792e+00, -8.47345199e-01],\n",
              "       [ 6.48030251e-01, -8.37396931e-01],\n",
              "       [ 9.91417865e-01, -8.52319333e-01],\n",
              "       [-4.75783759e-01, -5.01642893e-01],\n",
              "       [ 9.70606494e-01, -8.72215869e-01],\n",
              "       [-3.99301972e-01, -4.27030885e-01],\n",
              "       [ 1.53760200e-01, -4.17082617e-01],\n",
              "       [-7.62980672e-01,  5.95153632e-01],\n",
              "       [-8.02001992e-01,  6.07588967e-01],\n",
              "       [ 3.02052649e+00, -6.83198780e-01],\n",
              "       [-7.46851860e-01, -2.15630194e-01],\n",
              "       [-6.84938033e-01,  1.01049381e+00],\n",
              "       [ 6.01090329e-02, -7.57810789e-01],\n",
              "       [-4.39478198e-02, -6.95634115e-01],\n",
              "       [-7.68183515e-01,  1.52780374e+00],\n",
              "       [-8.55591271e-01,  1.26914878e+00],\n",
              "       [ 6.48030251e-01, -5.38948897e-01],\n",
              "       [ 2.05788627e-01, -8.00090927e-01],\n",
              "       [ 3.87899553e+00, -8.82164136e-01],\n",
              "       [-2.98887109e-01, -6.93147048e-01],\n",
              "       [-8.19691657e-01,  5.95153632e-01],\n",
              "       [-8.38421890e-01,  1.29899358e+00],\n",
              "       [ 2.05788627e-01, -7.55323722e-01],\n",
              "       [-3.45712693e-01, -6.23509174e-01],\n",
              "       [-7.94718012e-01,  2.45547971e+00],\n",
              "       [ 5.80393297e-01, -7.82681458e-01],\n",
              "       [-7.19276794e-01,  1.47060120e+00],\n",
              "       [-6.47591904e-02, -5.78741969e-01],\n",
              "       [-7.18236225e-01,  4.30247690e-02],\n",
              "       [-6.88580022e-01, -5.24026496e-01],\n",
              "       [-4.90872002e-01, -3.02677537e-01],\n",
              "       [-1.63613200e-01, -7.82681458e-01],\n",
              "       [-5.56948104e-01, -1.18634583e-01],\n",
              "       [-8.44249074e-01,  1.56013561e+00],\n",
              "       [-6.98465423e-01,  6.49869105e-01],\n",
              "       [-4.51850682e-01,  4.40955481e-01],\n",
              "       [-7.88474601e-01,  2.17119455e-01],\n",
              "       [ 1.47528223e+00, -8.39883998e-01],\n",
              "       [ 7.88507002e-01, -7.97603860e-01],\n",
              "       [-8.49660030e-01,  2.10729034e+00],\n",
              "       [-6.24064774e-01,  2.28138502e+00],\n",
              "       [ 2.34935979e+00, -8.72215869e-01],\n",
              "       [ 1.46487654e+00, -6.60815178e-01],\n",
              "       [-6.69329505e-01,  1.33878665e+00],\n",
              "       [-9.07734035e-02, -4.61849822e-01],\n",
              "       [-5.12723941e-01, -3.52418876e-01],\n",
              "       [-3.73808043e-01, -4.46927420e-01],\n",
              "       [-6.00651982e-01, -1.58427654e-01],\n",
              "       [ 2.42208525e-01, -8.02577994e-01],\n",
              "       [ 5.23162028e-01, -8.54806400e-01],\n",
              "       [ 5.61154213e+00, -7.27965986e-01],\n",
              "       [ 3.40948197e-02, -6.65789312e-01],\n",
              "       [ 3.09845479e-01, -7.03095316e-01],\n",
              "       [-8.21772794e-01,  6.29972569e-01],\n",
              "       [-6.11057667e-01, -4.81746357e-01],\n",
              "       [ 1.47007939e+00, -5.61332500e-01],\n",
              "       [-7.78589200e-01,  7.09558712e-01],\n",
              "       [-2.31250155e-01, -7.62784923e-01],\n",
              "       [ 1.69368728e-01, -5.93664370e-01],\n",
              "       [-8.28536489e-01,  3.02750511e+00],\n",
              "       [ 2.85923837e+00, -8.82164136e-01],\n",
              "       [ 4.19105175e-01, -7.77707325e-01],\n",
              "       [ 6.01204667e-01, -8.72215869e-01],\n",
              "       [-7.99400571e-01, -2.52936198e-01],\n",
              "       [-2.67670053e-01,  3.83752941e-01],\n",
              "       [ 6.89652992e-01, -8.49832266e-01],\n",
              "       [ 7.98912687e-01, -8.57293467e-01],\n",
              "       [-4.46647840e-01, -6.73250513e-01],\n",
              "       [-3.75889180e-01, -4.36979152e-01],\n",
              "       [-7.16675373e-01,  9.55778340e-01],\n",
              "       [-1.53207515e-01, -3.52418876e-01],\n",
              "       [ 1.34000832e+00, -8.77190003e-01],\n",
              "       [ 1.99556649e+00, -8.39883998e-01],\n",
              "       [-7.82231190e-01,  3.51421071e-01],\n",
              "       [-7.83271758e-01,  8.36399126e-01],\n",
              "       [-1.89627414e-01, -5.81229035e-01],\n",
              "       [-7.95758581e-01,  6.05101900e-01],\n",
              "       [-8.29056774e-01,  1.29401944e+00],\n",
              "       [-6.32909606e-01, -5.19052362e-01],\n",
              "       [-3.50915535e-01, -5.19052362e-01],\n",
              "       [ 4.45005050e-02, -4.76772224e-01],\n",
              "       [-3.74848611e-01,  5.90179498e-01],\n",
              "       [-8.11887393e-01,  1.06272222e+00],\n",
              "       [-4.85148875e-01, -6.60815178e-01],\n",
              "       [ 2.10482619e+00, -7.37914253e-01],\n",
              "       [ 9.91417865e-01, -8.22474530e-01],\n",
              "       [ 1.67819309e+00, -7.70246124e-01],\n",
              "       [-2.32507872e-03, -6.88172914e-01],\n",
              "       [-6.71410642e-01, -4.89967082e-02],\n",
              "       [-7.38527312e-01, -2.25578462e-01],\n",
              "       [-3.35421345e-02, -5.26513563e-01],\n",
              "       [-6.58403535e-01, -3.72315412e-01],\n",
              "       [-6.58923819e-01,  4.48416682e-01],\n",
              "       [-7.21357931e-01,  1.11495062e+00]])"
            ]
          },
          "execution_count": 11,
          "metadata": {},
          "output_type": "execute_result"
        }
      ],
      "source": [
        "selected_features = df[['income', 'child_mort']]\n",
        "\n",
        "scaler_selected = StandardScaler()\n",
        "X_scaled = scaler_selected.fit_transform(selected_features)\n",
        "\n",
        "X_scaled"
      ]
    },
    {
      "cell_type": "code",
      "execution_count": 15,
      "metadata": {},
      "outputs": [
        {
          "name": "stderr",
          "output_type": "stream",
          "text": [
            "c:\\Users\\sulta\\anaconda3\\Lib\\site-packages\\sklearn\\cluster\\_kmeans.py:1446: UserWarning: KMeans is known to have a memory leak on Windows with MKL, when there are less chunks than available threads. You can avoid it by setting the environment variable OMP_NUM_THREADS=1.\n",
            "  warnings.warn(\n"
          ]
        },
        {
          "data": {
            "text/plain": [
              "array([1, 0, 0, 1, 0])"
            ]
          },
          "execution_count": 15,
          "metadata": {},
          "output_type": "execute_result"
        }
      ],
      "source": [
        "kmeans_example = KMeans(n_clusters=3, random_state=42)\n",
        "kmeans_example.fit(X_scaled)\n",
        "\n",
        "labels_example = kmeans_example.labels_\n",
        "\n",
        "labels_example[:5]\n"
      ]
    },
    {
      "cell_type": "code",
      "execution_count": 17,
      "metadata": {
        "id": "s5_iv2ODDb2a"
      },
      "outputs": [
        {
          "data": {
            "image/png": "[encoded data removed]",
            "text/plain": [
              "<Figure size 1000x600 with 1 Axes>"
            ]
          },
          "metadata": {},
          "output_type": "display_data"
        }
      ],
      "source": [
        "plt.figure(figsize=(10, 6))\n",
        "scatter = plt.scatter(X_scaled[:, x1_index], X_scaled[:, x2_index], c=kmeans.labels_, cmap='viridis', alpha=0.5)\n",
        "centers = plt.scatter(kmeans.cluster_centers_[:, x1_index], kmeans.cluster_centers_[:, x2_index], marker='o', color='red', s=200, label='Centers')\n",
        "\n",
        "plt.xlabel('Income (Standardized)')\n",
        "plt.ylabel('Child Mortality (Standardized)')\n",
        "plt.title('Scatter Plot of Countries by Income and Child Mortality')\n",
        "\n",
        "plt.legend(*scatter.legend_elements(), title=\"Clusters\")\n",
        "plt.grid(True)\n",
        "plt.show()\n"
      ]
    },
    {
      "cell_type": "markdown",
      "metadata": {
        "id": "827DR0zsOkNA"
      },
      "source": [
        "# 3.) Check a range of k-clusters and visualize to find the elbow. Test 30 different random starting places for the centroid means\n"
      ]
    },
    {
      "cell_type": "code",
      "execution_count": 14,
      "metadata": {
        "id": "L66GonbU5NAg"
      },
      "outputs": [
        {
          "name": "stderr",
          "output_type": "stream",
          "text": [
            "c:\\Users\\sulta\\anaconda3\\Lib\\site-packages\\sklearn\\cluster\\_kmeans.py:1446: UserWarning: KMeans is known to have a memory leak on Windows with MKL, when there are less chunks than available threads. You can avoid it by setting the environment variable OMP_NUM_THREADS=1.\n",
            "  warnings.warn(\n",
            "c:\\Users\\sulta\\anaconda3\\Lib\\site-packages\\sklearn\\cluster\\_kmeans.py:1446: UserWarning: KMeans is known to have a memory leak on Windows with MKL, when there are less chunks than available threads. You can avoid it by setting the environment variable OMP_NUM_THREADS=1.\n",
            "  warnings.warn(\n",
            "c:\\Users\\sulta\\anaconda3\\Lib\\site-packages\\sklearn\\cluster\\_kmeans.py:1446: UserWarning: KMeans is known to have a memory leak on Windows with MKL, when there are less chunks than available threads. You can avoid it by setting the environment variable OMP_NUM_THREADS=1.\n",
            "  warnings.warn(\n",
            "c:\\Users\\sulta\\anaconda3\\Lib\\site-packages\\sklearn\\cluster\\_kmeans.py:1446: UserWarning: KMeans is known to have a memory leak on Windows with MKL, when there are less chunks than available threads. You can avoid it by setting the environment variable OMP_NUM_THREADS=1.\n",
            "  warnings.warn(\n",
            "c:\\Users\\sulta\\anaconda3\\Lib\\site-packages\\sklearn\\cluster\\_kmeans.py:1446: UserWarning: KMeans is known to have a memory leak on Windows with MKL, when there are less chunks than available threads. You can avoid it by setting the environment variable OMP_NUM_THREADS=1.\n",
            "  warnings.warn(\n",
            "c:\\Users\\sulta\\anaconda3\\Lib\\site-packages\\sklearn\\cluster\\_kmeans.py:1446: UserWarning: KMeans is known to have a memory leak on Windows with MKL, when there are less chunks than available threads. You can avoid it by setting the environment variable OMP_NUM_THREADS=1.\n",
            "  warnings.warn(\n",
            "c:\\Users\\sulta\\anaconda3\\Lib\\site-packages\\sklearn\\cluster\\_kmeans.py:1446: UserWarning: KMeans is known to have a memory leak on Windows with MKL, when there are less chunks than available threads. You can avoid it by setting the environment variable OMP_NUM_THREADS=1.\n",
            "  warnings.warn(\n",
            "c:\\Users\\sulta\\anaconda3\\Lib\\site-packages\\sklearn\\cluster\\_kmeans.py:1446: UserWarning: KMeans is known to have a memory leak on Windows with MKL, when there are less chunks than available threads. You can avoid it by setting the environment variable OMP_NUM_THREADS=1.\n",
            "  warnings.warn(\n",
            "c:\\Users\\sulta\\anaconda3\\Lib\\site-packages\\sklearn\\cluster\\_kmeans.py:1446: UserWarning: KMeans is known to have a memory leak on Windows with MKL, when there are less chunks than available threads. You can avoid it by setting the environment variable OMP_NUM_THREADS=1.\n",
            "  warnings.warn(\n",
            "c:\\Users\\sulta\\anaconda3\\Lib\\site-packages\\sklearn\\cluster\\_kmeans.py:1446: UserWarning: KMeans is known to have a memory leak on Windows with MKL, when there are less chunks than available threads. You can avoid it by setting the environment variable OMP_NUM_THREADS=1.\n",
            "  warnings.warn(\n"
          ]
        },
        {
          "data": {
            "image/png": "[encoded data removed]",
            "text/plain": [
              "<Figure size 1000x600 with 1 Axes>"
            ]
          },
          "metadata": {},
          "output_type": "display_data"
        }
      ],
      "source": [
        "k_values = range(1, 11)  \n",
        "inertia_values = []\n",
        "\n",
        "for k in k_values:\n",
        "    \n",
        "    kmeans = KMeans(n_clusters=k, n_init=30, random_state=42)\n",
        "    kmeans.fit(X_scaled)\n",
        "    inertia_values.append(kmeans.inertia_)\n",
        "\n",
        "plt.figure(figsize=(10, 6))\n",
        "plt.plot(k_values, inertia_values, marker='o', linestyle='-', color='blue')\n",
        "plt.xlabel('Number of clusters (k)')\n",
        "plt.ylabel('Inertia')\n",
        "plt.title('Elbow Method for Optimal k')\n",
        "plt.xticks(k_values)\n",
        "plt.grid(True)\n",
        "plt.show()\n"
      ]
    },
    {
      "cell_type": "markdown",
      "metadata": {
        "id": "aNEDRA7XPkMN"
      },
      "source": [
        "# 4.) Use the above work and economic critical thinking to choose a number of clusters. Explain why you chose the number of clusters and fit a model accordingly."
      ]
    },
    {
      "cell_type": "code",
      "execution_count": 18,
      "metadata": {
        "id": "Vfz1eA5ZP4wE"
      },
      "outputs": [
        {
          "name": "stderr",
          "output_type": "stream",
          "text": [
            "c:\\Users\\sulta\\anaconda3\\Lib\\site-packages\\sklearn\\cluster\\_kmeans.py:1446: UserWarning: KMeans is known to have a memory leak on Windows with MKL, when there are less chunks than available threads. You can avoid it by setting the environment variable OMP_NUM_THREADS=1.\n",
            "  warnings.warn(\n",
            "C:\\Users\\sulta\\AppData\\Local\\Temp\\ipykernel_34052\\1855155905.py:9: SettingWithCopyWarning: \n",
            "A value is trying to be set on a copy of a slice from a DataFrame.\n",
            "Try using .loc[row_indexer,col_indexer] = value instead\n",
            "\n",
            "See the caveats in the documentation: https://pandas.pydata.org/pandas-docs/stable/user_guide/indexing.html#returning-a-view-versus-a-copy\n",
            "  selected_features['Cluster'] = final_labels\n"
          ]
        },
        {
          "data": {
            "text/html": [
              "<div>\n",
              "<style scoped>\n",
              "    .dataframe tbody tr th:only-of-type {\n",
              "        vertical-align: middle;\n",
              "    }\n",
              "\n",
              "    .dataframe tbody tr th {\n",
              "        vertical-align: top;\n",
              "    }\n",
              "\n",
              "    .dataframe thead th {\n",
              "        text-align: right;\n",
              "    }\n",
              "</style>\n",
              "<table border=\"1\" class=\"dataframe\">\n",
              "  <thead>\n",
              "    <tr style=\"text-align: right;\">\n",
              "      <th></th>\n",
              "      <th>income</th>\n",
              "      <th>child_mort</th>\n",
              "      <th>Cluster</th>\n",
              "    </tr>\n",
              "  </thead>\n",
              "  <tbody>\n",
              "    <tr>\n",
              "      <th>0</th>\n",
              "      <td>1610</td>\n",
              "      <td>90.2</td>\n",
              "      <td>1</td>\n",
              "    </tr>\n",
              "    <tr>\n",
              "      <th>1</th>\n",
              "      <td>9930</td>\n",
              "      <td>16.6</td>\n",
              "      <td>0</td>\n",
              "    </tr>\n",
              "    <tr>\n",
              "      <th>2</th>\n",
              "      <td>12900</td>\n",
              "      <td>27.3</td>\n",
              "      <td>0</td>\n",
              "    </tr>\n",
              "    <tr>\n",
              "      <th>3</th>\n",
              "      <td>5900</td>\n",
              "      <td>119.0</td>\n",
              "      <td>1</td>\n",
              "    </tr>\n",
              "    <tr>\n",
              "      <th>4</th>\n",
              "      <td>19100</td>\n",
              "      <td>10.3</td>\n",
              "      <td>0</td>\n",
              "    </tr>\n",
              "  </tbody>\n",
              "</table>\n",
              "</div>"
            ],
            "text/plain": [
              "   income  child_mort  Cluster\n",
              "0    1610        90.2        1\n",
              "1    9930        16.6        0\n",
              "2   12900        27.3        0\n",
              "3    5900       119.0        1\n",
              "4   19100        10.3        0"
            ]
          },
          "execution_count": 18,
          "metadata": {},
          "output_type": "execute_result"
        }
      ],
      "source": [
        "kmeans_final = KMeans(n_clusters=3, random_state=42)\n",
        "kmeans_final.fit(X_scaled)\n",
        "\n",
        "final_labels = kmeans_final.labels_\n",
        "\n",
        "selected_features['Cluster'] = final_labels\n",
        "\n",
        "selected_features.head()\n"
      ]
    },
    {
      "cell_type": "markdown",
      "metadata": {
        "id": "o0TG8sABQake"
      },
      "source": [
        "- Income reflects the economic capacity and standard of living.\n",
        "- Child mortality is a critical indicator of healthcare quality, public health conditions, and overall well-being.\n",
        "\n",
        "Choosing the Number of Clusters:\n",
        "From the elbow method plot we generated earlier, we observed potential elbow points around 2-4 clusters. This observation suggests diminishing returns in terms of inertia reduction beyond this range. Given the economic implications of our chosen features:\n",
        "\n",
        "Three clusters could represent a nuanced segmentation of countries into:\n",
        "- Low income & high child mortality (potentially underdeveloped countries),\n",
        "- Medium income & medium child mortality (developing countries),\n",
        "- High income & low child mortality (developed countries)."
      ]
    },
    {
      "cell_type": "markdown",
      "metadata": {
        "id": "FNgPPYCGsE4X"
      },
      "source": [
        "# 6.) Do the same for a silhoutte plot"
      ]
    },
    {
      "cell_type": "code",
      "execution_count": 19,
      "metadata": {
        "id": "74EiOYI8sDv7"
      },
      "outputs": [
        {
          "name": "stderr",
          "output_type": "stream",
          "text": [
            "c:\\Users\\sulta\\anaconda3\\Lib\\site-packages\\sklearn\\cluster\\_kmeans.py:1446: UserWarning: KMeans is known to have a memory leak on Windows with MKL, when there are less chunks than available threads. You can avoid it by setting the environment variable OMP_NUM_THREADS=1.\n",
            "  warnings.warn(\n",
            "c:\\Users\\sulta\\anaconda3\\Lib\\site-packages\\sklearn\\cluster\\_kmeans.py:1446: UserWarning: KMeans is known to have a memory leak on Windows with MKL, when there are less chunks than available threads. You can avoid it by setting the environment variable OMP_NUM_THREADS=1.\n",
            "  warnings.warn(\n",
            "c:\\Users\\sulta\\anaconda3\\Lib\\site-packages\\sklearn\\cluster\\_kmeans.py:1446: UserWarning: KMeans is known to have a memory leak on Windows with MKL, when there are less chunks than available threads. You can avoid it by setting the environment variable OMP_NUM_THREADS=1.\n",
            "  warnings.warn(\n",
            "c:\\Users\\sulta\\anaconda3\\Lib\\site-packages\\sklearn\\cluster\\_kmeans.py:1446: UserWarning: KMeans is known to have a memory leak on Windows with MKL, when there are less chunks than available threads. You can avoid it by setting the environment variable OMP_NUM_THREADS=1.\n",
            "  warnings.warn(\n",
            "c:\\Users\\sulta\\anaconda3\\Lib\\site-packages\\sklearn\\cluster\\_kmeans.py:1446: UserWarning: KMeans is known to have a memory leak on Windows with MKL, when there are less chunks than available threads. You can avoid it by setting the environment variable OMP_NUM_THREADS=1.\n",
            "  warnings.warn(\n",
            "c:\\Users\\sulta\\anaconda3\\Lib\\site-packages\\sklearn\\cluster\\_kmeans.py:1446: UserWarning: KMeans is known to have a memory leak on Windows with MKL, when there are less chunks than available threads. You can avoid it by setting the environment variable OMP_NUM_THREADS=1.\n",
            "  warnings.warn(\n",
            "c:\\Users\\sulta\\anaconda3\\Lib\\site-packages\\sklearn\\cluster\\_kmeans.py:1446: UserWarning: KMeans is known to have a memory leak on Windows with MKL, when there are less chunks than available threads. You can avoid it by setting the environment variable OMP_NUM_THREADS=1.\n",
            "  warnings.warn(\n",
            "c:\\Users\\sulta\\anaconda3\\Lib\\site-packages\\sklearn\\cluster\\_kmeans.py:1446: UserWarning: KMeans is known to have a memory leak on Windows with MKL, when there are less chunks than available threads. You can avoid it by setting the environment variable OMP_NUM_THREADS=1.\n",
            "  warnings.warn(\n",
            "c:\\Users\\sulta\\anaconda3\\Lib\\site-packages\\sklearn\\cluster\\_kmeans.py:1446: UserWarning: KMeans is known to have a memory leak on Windows with MKL, when there are less chunks than available threads. You can avoid it by setting the environment variable OMP_NUM_THREADS=1.\n",
            "  warnings.warn(\n"
          ]
        },
        {
          "data": {
            "image/png": "[encoded data removed]",
            "text/plain": [
              "<Figure size 1000x600 with 1 Axes>"
            ]
          },
          "metadata": {},
          "output_type": "display_data"
        }
      ],
      "source": [
        "from sklearn.metrics import silhouette_score\n",
        "\n",
        "silhouette_scores = []\n",
        "\n",
        "for k in range(2, 11):  \n",
        "    kmeans = KMeans(n_clusters=k, random_state=42)\n",
        "    kmeans.fit(X_scaled)\n",
        "    score = silhouette_score(X_scaled, kmeans.labels_)\n",
        "    silhouette_scores.append(score)\n",
        "\n",
        "plt.figure(figsize=(10, 6))\n",
        "plt.plot(range(2, 11), silhouette_scores, marker='o', linestyle='-', color='green')\n",
        "plt.xlabel('Number of clusters (k)')\n",
        "plt.ylabel('Silhouette Score')\n",
        "plt.title('Silhouette Scores for Different Numbers of Clusters')\n",
        "plt.xticks(range(2, 11))\n",
        "plt.grid(True)\n",
        "plt.show()\n",
        "\n"
      ]
    },
    {
      "cell_type": "markdown",
      "metadata": {
        "id": "Z6xfLRZIRfdl"
      },
      "source": [
        "# 7.) Create a list of the countries that are in each cluster. Write interesting things you notice."
      ]
    },
    {
      "cell_type": "markdown",
      "metadata": {
        "id": "fGuVFuzxStqP"
      },
      "source": [
        "Cluster 0 (Low Income & High Child Mortality)\n",
        "This cluster predominantly includes countries with lower income levels and higher child mortality rates. Many of these countries are located in Sub-Saharan Africa, reflecting challenges related to public health, access to medical care, and economic development. Examples include Afghanistan, Angola, Burkina Faso, and Nigeria.\n",
        "\n",
        "Cluster 1 (High Income & Low Child Mortality)\n",
        "Countries in this cluster are characterized by high income levels and low child mortality rates, indicative of developed economies with advanced healthcare systems and high standards of living. This cluster includes countries such as Australia, Canada, Germany, Japan, and the United States.\n",
        "\n",
        "Cluster 2 (Mixed Income Levels & Variable Child Mortality)\n",
        "This cluster contains a mix of countries from various parts of the world, including both emerging economies and countries that are further along in their development. The income levels and child mortality rates are more variable, encompassing nations like Argentina, China, Mexico, Russia, and South Korea. This diversity suggests a transition phase or varying degrees of development and healthcare access."
      ]
    },
    {
      "cell_type": "markdown",
      "metadata": {
        "id": "LTutrUGlqqha"
      },
      "source": [
        "Interesting Observations:\n",
        "- Geographic Distribution: There's a clear geographic pattern in the clustering, with Cluster 0 mostly consisting of African countries and parts of Asia, reflecting broader global economic disparities.\n",
        "- Development Indicators: The clusters align well with common indicators of development, such as income and healthcare outcomes, validating the KMeans clustering approach based on economic and health metrics.\n",
        "- Transition Economies: Cluster 2 is particularly interesting as it includes countries that are often classified as emerging or transition economies. This highlights the diversity within this group and the potential for significant socio-economic shifts."
      ]
    },
    {
      "cell_type": "markdown",
      "metadata": {
        "id": "nEmf0AxkTJc1"
      },
      "source": [
        "# 8.) Create a table of Descriptive Statistics. Rows being the Cluster number and columns being all the features. Values being the mean of the centroid. Use the nonscaled X values for interpretation"
      ]
    },
    {
      "cell_type": "code",
      "execution_count": 26,
      "metadata": {
        "id": "PUsl2OxkrY8P"
      },
      "outputs": [
        {
          "data": {
            "text/html": [
              "<div>\n",
              "<style scoped>\n",
              "    .dataframe tbody tr th:only-of-type {\n",
              "        vertical-align: middle;\n",
              "    }\n",
              "\n",
              "    .dataframe tbody tr th {\n",
              "        vertical-align: top;\n",
              "    }\n",
              "\n",
              "    .dataframe thead th {\n",
              "        text-align: right;\n",
              "    }\n",
              "</style>\n",
              "<table border=\"1\" class=\"dataframe\">\n",
              "  <thead>\n",
              "    <tr style=\"text-align: right;\">\n",
              "      <th></th>\n",
              "      <th>child_mort</th>\n",
              "      <th>exports</th>\n",
              "      <th>health</th>\n",
              "      <th>imports</th>\n",
              "      <th>income</th>\n",
              "      <th>inflation</th>\n",
              "      <th>life_expec</th>\n",
              "      <th>total_fer</th>\n",
              "      <th>gdpp</th>\n",
              "    </tr>\n",
              "    <tr>\n",
              "      <th>Cluster</th>\n",
              "      <th></th>\n",
              "      <th></th>\n",
              "      <th></th>\n",
              "      <th></th>\n",
              "      <th></th>\n",
              "      <th></th>\n",
              "      <th></th>\n",
              "      <th></th>\n",
              "      <th></th>\n",
              "    </tr>\n",
              "  </thead>\n",
              "  <tbody>\n",
              "    <tr>\n",
              "      <th>0</th>\n",
              "      <td>26.909474</td>\n",
              "      <td>38.800832</td>\n",
              "      <td>6.362105</td>\n",
              "      <td>47.035431</td>\n",
              "      <td>10740.210526</td>\n",
              "      <td>7.804221</td>\n",
              "      <td>71.308421</td>\n",
              "      <td>2.552421</td>\n",
              "      <td>5835.757895</td>\n",
              "    </tr>\n",
              "    <tr>\n",
              "      <th>1</th>\n",
              "      <td>106.402941</td>\n",
              "      <td>28.232941</td>\n",
              "      <td>6.311471</td>\n",
              "      <td>43.238235</td>\n",
              "      <td>3045.382353</td>\n",
              "      <td>12.220147</td>\n",
              "      <td>58.002941</td>\n",
              "      <td>5.290882</td>\n",
              "      <td>1374.029412</td>\n",
              "    </tr>\n",
              "    <tr>\n",
              "      <th>2</th>\n",
              "      <td>5.710526</td>\n",
              "      <td>58.400000</td>\n",
              "      <td>8.400789</td>\n",
              "      <td>49.794737</td>\n",
              "      <td>45771.052632</td>\n",
              "      <td>3.754737</td>\n",
              "      <td>79.905263</td>\n",
              "      <td>1.840526</td>\n",
              "      <td>41155.263158</td>\n",
              "    </tr>\n",
              "  </tbody>\n",
              "</table>\n",
              "</div>"
            ],
            "text/plain": [
              "         child_mort    exports    health    imports        income  inflation  \\\n",
              "Cluster                                                                        \n",
              "0         26.909474  38.800832  6.362105  47.035431  10740.210526   7.804221   \n",
              "1        106.402941  28.232941  6.311471  43.238235   3045.382353  12.220147   \n",
              "2          5.710526  58.400000  8.400789  49.794737  45771.052632   3.754737   \n",
              "\n",
              "         life_expec  total_fer          gdpp  \n",
              "Cluster                                       \n",
              "0         71.308421   2.552421   5835.757895  \n",
              "1         58.002941   5.290882   1374.029412  \n",
              "2         79.905263   1.840526  41155.263158  "
            ]
          },
          "execution_count": 26,
          "metadata": {},
          "output_type": "execute_result"
        }
      ],
      "source": [
        "cluster_descriptive_stats_numeric = df.drop('country', axis=1).groupby('Cluster').mean(numeric_only=True)\n",
        "cluster_descriptive_stats_numeric\n"
      ]
    },
    {
      "cell_type": "markdown",
      "metadata": {
        "id": "x_rQZjMrUKY8"
      },
      "source": [
        "# 9.) Write an observation about the descriptive statistics."
      ]
    },
    {
      "cell_type": "markdown",
      "metadata": {
        "id": "7MOo8dEeTIOc"
      },
      "source": [
        "- Cluster 0 (Emerging Economies): Features moderate child mortality and income levels with relatively higher life expectancy compared to Cluster 1. This group likely represents emerging economies experiencing growth and improvement in living standards.\n",
        "\n",
        "- Cluster 1 (Least Developed Countries): Characterized by high child mortality, low income, and GDP per capita, along with the lowest life expectancy and highest total fertility rates. These indicators suggest significant development challenges, particularly in health and economic sectors.\n",
        "\n",
        "- Cluster 2 (Developed Countries): Shows very low child mortality, high income and GDP per capita, the highest life expectancy, and low total fertility rates. These traits are indicative of developed countries with advanced healthcare systems and high standards of living.\n",
        "\n",
        "The clusters highlight global disparities in development, with clear distinctions between developed, developing, and least developed countries based on economic indicators and health outcomes."
      ]
    }
  ],
  "metadata": {
    "colab": {
      "provenance": []
    },
    "kernelspec": {
      "display_name": "Python 3",
      "name": "python3"
    },
    "language_info": {
      "codemirror_mode": {
        "name": "ipython",
        "version": 3
      },
      "file_extension": ".py",
      "mimetype": "text/x-python",
      "name": "python",
      "nbconvert_exporter": "python",
      "pygments_lexer": "ipython3",
      "version": "3.11.5"
    }
  },
  "nbformat": 4,
  "nbformat_minor": 0
}
