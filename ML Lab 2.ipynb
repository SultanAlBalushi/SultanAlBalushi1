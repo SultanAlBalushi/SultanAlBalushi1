{
 "cells": [
  {
   "cell_type": "code",
   "execution_count": 1,
   "id": "33bce2fb",
   "metadata": {},
   "outputs": [],
   "source": [
    "import yfinance as yf\n",
    "import pandas as pd\n",
    "import numpy as np\n",
    "import matplotlib.pyplot as plt"
   ]
  },
  {
   "cell_type": "code",
   "execution_count": 2,
   "id": "bd694a22",
   "metadata": {},
   "outputs": [
    {
     "name": "stderr",
     "output_type": "stream",
     "text": [
      "[*********************100%%**********************]  1 of 1 completed\n"
     ]
    }
   ],
   "source": [
    "apple_data = yf.download('AAPL')\n",
    "df = apple_data.resample(\"M\").last()[[\"Adj Close\"]]"
   ]
  },
  {
   "cell_type": "code",
   "execution_count": 18,
   "id": "a5ac1651",
   "metadata": {},
   "outputs": [
    {
     "data": {
      "text/html": [
       "<div>\n",
       "<style scoped>\n",
       "    .dataframe tbody tr th:only-of-type {\n",
       "        vertical-align: middle;\n",
       "    }\n",
       "\n",
       "    .dataframe tbody tr th {\n",
       "        vertical-align: top;\n",
       "    }\n",
       "\n",
       "    .dataframe thead th {\n",
       "        text-align: right;\n",
       "    }\n",
       "</style>\n",
       "<table border=\"1\" class=\"dataframe\">\n",
       "  <thead>\n",
       "    <tr style=\"text-align: right;\">\n",
       "      <th></th>\n",
       "      <th>Adj Close</th>\n",
       "      <th>Diff</th>\n",
       "      <th>Target</th>\n",
       "      <th>Premium</th>\n",
       "      <th>predictions</th>\n",
       "      <th>Profits</th>\n",
       "    </tr>\n",
       "    <tr>\n",
       "      <th>Date</th>\n",
       "      <th></th>\n",
       "      <th></th>\n",
       "      <th></th>\n",
       "      <th></th>\n",
       "      <th></th>\n",
       "      <th></th>\n",
       "    </tr>\n",
       "  </thead>\n",
       "  <tbody>\n",
       "    <tr>\n",
       "      <th>1980-12-31</th>\n",
       "      <td>0.117887</td>\n",
       "      <td>-0.020296</td>\n",
       "      <td>-1.0</td>\n",
       "      <td>0.009431</td>\n",
       "      <td>-1.0</td>\n",
       "      <td>0.0</td>\n",
       "    </tr>\n",
       "    <tr>\n",
       "      <th>1981-01-31</th>\n",
       "      <td>0.097591</td>\n",
       "      <td>-0.006045</td>\n",
       "      <td>-1.0</td>\n",
       "      <td>0.007807</td>\n",
       "      <td>-1.0</td>\n",
       "      <td>0.0</td>\n",
       "    </tr>\n",
       "    <tr>\n",
       "      <th>1981-02-28</th>\n",
       "      <td>0.091546</td>\n",
       "      <td>-0.006909</td>\n",
       "      <td>-1.0</td>\n",
       "      <td>0.007324</td>\n",
       "      <td>-1.0</td>\n",
       "      <td>0.0</td>\n",
       "    </tr>\n",
       "    <tr>\n",
       "      <th>1981-03-31</th>\n",
       "      <td>0.084637</td>\n",
       "      <td>0.013386</td>\n",
       "      <td>1.0</td>\n",
       "      <td>0.006771</td>\n",
       "      <td>1.0</td>\n",
       "      <td>0.0</td>\n",
       "    </tr>\n",
       "    <tr>\n",
       "      <th>1981-04-30</th>\n",
       "      <td>0.098023</td>\n",
       "      <td>0.016409</td>\n",
       "      <td>1.0</td>\n",
       "      <td>0.007842</td>\n",
       "      <td>1.0</td>\n",
       "      <td>0.0</td>\n",
       "    </tr>\n",
       "  </tbody>\n",
       "</table>\n",
       "</div>"
      ],
      "text/plain": [
       "            Adj Close      Diff  Target   Premium  predictions  Profits\n",
       "Date                                                                   \n",
       "1980-12-31   0.117887 -0.020296    -1.0  0.009431         -1.0      0.0\n",
       "1981-01-31   0.097591 -0.006045    -1.0  0.007807         -1.0      0.0\n",
       "1981-02-28   0.091546 -0.006909    -1.0  0.007324         -1.0      0.0\n",
       "1981-03-31   0.084637  0.013386     1.0  0.006771          1.0      0.0\n",
       "1981-04-30   0.098023  0.016409     1.0  0.007842          1.0      0.0"
      ]
     },
     "execution_count": 18,
     "metadata": {},
     "output_type": "execute_result"
    }
   ],
   "source": [
    "df.head()"
   ]
  },
  {
   "cell_type": "code",
   "execution_count": 4,
   "id": "58af6a5f",
   "metadata": {},
   "outputs": [],
   "source": [
    "# Difference in stockprice\n",
    "df['Diff'] = df[\"Adj Close\"].diff().shift(-1)\n",
    "\n",
    "df['Target'] = np.sign(df['Diff'])\n",
    "\n",
    "df['Premium'] = .08 * df['Adj Close']"
   ]
  },
  {
   "cell_type": "code",
   "execution_count": 5,
   "id": "6cbaafd6",
   "metadata": {
    "scrolled": true
   },
   "outputs": [
    {
     "data": {
      "text/plain": [
       "<bound method NDFrame.head of              Adj Close       Diff  Target    Premium\n",
       "Date                                                \n",
       "1980-12-31    0.117887  -0.020296    -1.0   0.009431\n",
       "1981-01-31    0.097591  -0.006045    -1.0   0.007807\n",
       "1981-02-28    0.091546  -0.006909    -1.0   0.007324\n",
       "1981-03-31    0.084637   0.013386     1.0   0.006771\n",
       "1981-04-30    0.098023   0.016409     1.0   0.007842\n",
       "...                ...        ...     ...        ...\n",
       "2023-09-30  170.984741  -0.439423    -1.0  13.678779\n",
       "2023-10-31  170.545319  19.404678     1.0  13.643625\n",
       "2023-11-30  189.949997   2.580002     1.0  15.196000\n",
       "2023-12-31  192.529999  -3.899994    -1.0  15.402400\n",
       "2024-01-31  188.630005        NaN     NaN  15.090400\n",
       "\n",
       "[518 rows x 4 columns]>"
      ]
     },
     "execution_count": 5,
     "metadata": {},
     "output_type": "execute_result"
    }
   ],
   "source": [
    "df.head"
   ]
  },
  {
   "cell_type": "markdown",
   "id": "53cc5499",
   "metadata": {},
   "source": [
    "# 3.) Pull in X data, normalize and build a LogReg on column 2"
   ]
  },
  {
   "cell_type": "code",
   "execution_count": 6,
   "id": "9f8c1321",
   "metadata": {},
   "outputs": [],
   "source": [
    "import numpy as np\n",
    "import pandas as pd\n",
    "from sklearn.model_selection import train_test_split\n",
    "from sklearn.linear_model import LogisticRegression\n",
    "from sklearn import metrics"
   ]
  },
  {
   "cell_type": "code",
   "execution_count": 7,
   "id": "4a1b2d6c",
   "metadata": {
    "scrolled": true
   },
   "outputs": [],
   "source": [
    "file_path = r'C:\\Users\\sulta\\OneDrive\\Documents\\Quarter 2\\ECON 441B Applied Data Management for Economists\\Xdata.csv'\n",
    "X = pd.read_csv(file_path, index_col=\"Date\", parse_dates=[\"Date\"])\n"
   ]
  },
  {
   "cell_type": "code",
   "execution_count": 8,
   "id": "a3617d91",
   "metadata": {},
   "outputs": [
    {
     "data": {
      "text/plain": [
       "<bound method NDFrame.head of                 VAR1\n",
       "Date                \n",
       "1980-12-31  0.163261\n",
       "1981-01-31  0.437449\n",
       "1981-02-28 -0.334994\n",
       "1981-03-31  2.550820\n",
       "1981-04-30  3.170655\n",
       "...              ...\n",
       "2023-05-31  2.330573\n",
       "2023-06-30  3.033257\n",
       "2023-07-31  1.007072\n",
       "2023-08-31  0.504651\n",
       "2023-09-30  0.669328\n",
       "\n",
       "[514 rows x 1 columns]>"
      ]
     },
     "execution_count": 8,
     "metadata": {},
     "output_type": "execute_result"
    }
   ],
   "source": [
    "X.head"
   ]
  },
  {
   "cell_type": "code",
   "execution_count": 9,
   "id": "8b811aa1",
   "metadata": {
    "scrolled": true
   },
   "outputs": [],
   "source": [
    "y = df.loc[:\"2023-09-30\", \"Target\"].copy()\n",
    "\n",
    "df = df.loc[:\"2023-09-30\", :].copy()"
   ]
  },
  {
   "cell_type": "code",
   "execution_count": 10,
   "id": "d65f0c97",
   "metadata": {},
   "outputs": [],
   "source": [
    "logreg = LogisticRegression()\n",
    "\n",
    "logreg.fit (X, y)\n",
    "\n",
    "y_pred = logreg.predict(X)"
   ]
  },
  {
   "cell_type": "markdown",
   "id": "a60b9404",
   "metadata": {},
   "source": [
    "# 4.) Add columns, prediction and profits."
   ]
  },
  {
   "cell_type": "code",
   "execution_count": 16,
   "id": "b3c3a300",
   "metadata": {},
   "outputs": [],
   "source": [
    "df[\"predictions\"] = y_pred"
   ]
  },
  {
   "cell_type": "code",
   "execution_count": 19,
   "id": "6f85c5bf",
   "metadata": {
    "scrolled": true
   },
   "outputs": [],
   "source": [
    "df[\"Profits\"] = 0.\n",
    "\n",
    "#True Positives\n",
    "df.loc[(df[\"predictions\"] == 1) & (df[\"Target\"] == 1), \"Profits\"] = df.loc[(df[\"predictions\"] == 1) & (df[\"Target\"] == 1), \"Premium\"]\n",
    "\n",
    "#False Positives\n",
    "df.loc[(df[\"predictions\"] == 1) & (df[\"Target\"] == -1), \"Profits\"] = 100 * df.loc[(df[\"predictions\"] == 1) & (df['Target'] == -1),\"Diff\"]"
   ]
  },
  {
   "cell_type": "markdown",
   "id": "1d5c7173",
   "metadata": {},
   "source": [
    "# 5.) Plot profits over time"
   ]
  },
  {
   "cell_type": "code",
   "execution_count": 20,
   "id": "393f0aaf",
   "metadata": {},
   "outputs": [
    {
     "data": {
      "text/plain": [
       "<function matplotlib.pyplot.show(close=None, block=None)>"
      ]
     },
     "execution_count": 20,
     "metadata": {},
     "output_type": "execute_result"
    },
    {
     "data": {
      "image/png": "[encoded data removed]",
      "text/plain": [
       "<Figure size 640x480 with 1 Axes>"
      ]
     },
     "metadata": {},
     "output_type": "display_data"
    }
   ],
   "source": [
    "plt.plot(np.cumsum(df[\"Profits\"]))\n",
    "plt.show"
   ]
  },
  {
   "cell_type": "code",
   "execution_count": null,
   "id": "8f2d1076",
   "metadata": {},
   "outputs": [],
   "source": []
  }
 ],
 "metadata": {
  "kernelspec": {
   "display_name": "Python 3 (ipykernel)",
   "language": "python",
   "name": "python3"
  },
  "language_info": {
   "codemirror_mode": {
    "name": "ipython",
    "version": 3
   },
   "file_extension": ".py",
   "mimetype": "text/x-python",
   "name": "python",
   "nbconvert_exporter": "python",
   "pygments_lexer": "ipython3",
   "version": "3.11.5"
  }
 },
 "nbformat": 4,
 "nbformat_minor": 5
}
